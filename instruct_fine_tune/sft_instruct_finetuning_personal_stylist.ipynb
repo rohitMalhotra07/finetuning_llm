{
 "cells": [
  {
   "cell_type": "code",
   "execution_count": null,
   "id": "3335d752-bb51-4c66-ac0b-a2c585e060b6",
   "metadata": {},
   "outputs": [],
   "source": [
    "import os\n",
    "\n",
    "import torch\n",
    "from datasets import load_dataset\n",
    "from peft import LoraConfig, PeftModel, get_peft_model, prepare_model_for_kbit_training\n",
    "from transformers import (\n",
    "    AutoModelForCausalLM,\n",
    "    AutoTokenizer,\n",
    "    BitsAndBytesConfig,\n",
    "    HfArgumentParser,\n",
    "    TrainingArguments,\n",
    "    logging,\n",
    "    pipeline,\n",
    ")\n",
    "from trl import DataCollatorForCompletionOnlyLM, SFTTrainer"
   ]
  },
  {
   "cell_type": "code",
   "execution_count": null,
   "id": "606ea377-7753-4cf1-a47e-ba847b62764b",
   "metadata": {},
   "outputs": [],
   "source": [
    "from huggingface_hub import notebook_login"
   ]
  },
  {
   "cell_type": "code",
   "execution_count": null,
   "id": "815eba83-c13b-47fd-8ccd-4c8fecf3dc3f",
   "metadata": {},
   "outputs": [
    {
     "data": {
      "application/vnd.jupyter.widget-view+json": {
       "model_id": "0e3b2c6bfd1c48f2aa5f64301f9dff4e",
       "version_major": 2,
       "version_minor": 0
      },
      "text/plain": [
       "VBox(children=(HTML(value='<center> <img\\nsrc=https://huggingface.co/front/assets/huggingface_logo-noborder.sv…"
      ]
     },
     "metadata": {},
     "output_type": "display_data"
    }
   ],
   "source": [
    "notebook_login()"
   ]
  },
  {
   "cell_type": "markdown",
   "id": "7a14d694-0239-4f36-b575-7a4597fb7fb9",
   "metadata": {},
   "source": [
    "## Dataset"
   ]
  },
  {
   "cell_type": "code",
   "execution_count": null,
   "id": "31b32292-c0da-436f-b99b-44d7e595ebd4",
   "metadata": {},
   "outputs": [],
   "source": [
    "dataset = load_dataset(\"neuralwork/fashion-style-instruct\")"
   ]
  },
  {
   "cell_type": "code",
   "execution_count": null,
   "id": "3765940d-17ff-4f38-b958-65f61ece6777",
   "metadata": {},
   "outputs": [
    {
     "name": "stdout",
     "output_type": "stream",
     "text": [
      "DatasetDict({\n",
      "    train: Dataset({\n",
      "        features: ['input', 'completion', 'context'],\n",
      "        num_rows: 3193\n",
      "    })\n",
      "})\n"
     ]
    }
   ],
   "source": [
    "print(dataset)"
   ]
  },
  {
   "cell_type": "code",
   "execution_count": null,
   "id": "3615a327-c5a7-4354-9d02-42cfed9d5c62",
   "metadata": {},
   "outputs": [
    {
     "name": "stdout",
     "output_type": "stream",
     "text": [
      "{'input': \"I'm a tall, athletic man with broad shoulders and a narrow waist. I prefer sharp, tailored suits that highlight my V-shaped torso.\", 'completion': 'Outfit Combination 1:\\n- Top: Fitted white linen shirt\\n- Bottom: Slim-fit beige chinos\\n- Shoe: Brown leather loafers\\n- Accessories: Brown woven belt, aviator sunglasses\\n\\nOutfit Combination 2:\\n- Top: Light blue oxford button-down shirt\\n- Bottom: Navy blue tailored trousers\\n- Shoe: Tan leather brogues\\n- Accessories: Navy blue patterned pocket square, silver wristwatch\\n\\nOutfit Combination 3:\\n- Top: Light gray tailored blazer\\n- Bottom: Dark wash denim jeans\\n- Shoe: White canvas sneakers\\n- Accessories: Black leather belt, silver pendant necklace\\n\\nOutfit Combination 4:\\n- Top: Navy blue polo shirt\\n- Bottom: Khaki shorts\\n- Shoe: Brown leather sandals\\n- Accessories: Navy blue baseball cap, woven brown bracelet\\n\\nOutfit Combination 5:\\n- Top: Light pink dress shirt (with rolled-up sleeves)\\n- Bottom: Charcoal gray dress pants\\n- Shoe: Black monk strap shoes\\n- Accessories: Black leather belt, silver tie clip', 'context': \"I'm going to a nature retreat.\"}\n"
     ]
    }
   ],
   "source": [
    "print(dataset[\"train\"][0])"
   ]
  },
  {
   "cell_type": "code",
   "execution_count": null,
   "id": "a82ce33e-344b-401b-a291-666b064e53d0",
   "metadata": {},
   "outputs": [],
   "source": [
    "def format_instruction(sample):\n",
    "    s = f\"\"\"You are a personal stylist recommending fashion advice and clothing combinations. Use the self body and style description below, combined with the event described in the context to generate 5 self-contained and complete outfit combinations.\n",
    "### Input:\n",
    "{sample[\"input\"]}\n",
    "    \n",
    "### Context:\n",
    "{sample[\"context\"]}\n",
    "    \n",
    "### Response:\n",
    "{sample[\"completion\"]}\n",
    "\"\"\"\n",
    "    return s"
   ]
  },
  {
   "cell_type": "code",
   "execution_count": null,
   "id": "fa686aaa-2f1f-4eb3-91d3-728e6a52336d",
   "metadata": {},
   "outputs": [
    {
     "name": "stdout",
     "output_type": "stream",
     "text": [
      "You are a personal stylist recommending fashion advice and clothing combinations. Use the self body and style description below, combined with the event described in the context to generate 5 self-contained and complete outfit combinations.\n",
      "### Input:\n",
      "I'm a tall, athletic man with broad shoulders and a narrow waist. I prefer sharp, tailored suits that highlight my V-shaped torso.\n",
      "    \n",
      "### Context:\n",
      "I'm going to a nature retreat.\n",
      "    \n",
      "### Response:\n",
      "Outfit Combination 1:\n",
      "- Top: Fitted white linen shirt\n",
      "- Bottom: Slim-fit beige chinos\n",
      "- Shoe: Brown leather loafers\n",
      "- Accessories: Brown woven belt, aviator sunglasses\n",
      "\n",
      "Outfit Combination 2:\n",
      "- Top: Light blue oxford button-down shirt\n",
      "- Bottom: Navy blue tailored trousers\n",
      "- Shoe: Tan leather brogues\n",
      "- Accessories: Navy blue patterned pocket square, silver wristwatch\n",
      "\n",
      "Outfit Combination 3:\n",
      "- Top: Light gray tailored blazer\n",
      "- Bottom: Dark wash denim jeans\n",
      "- Shoe: White canvas sneakers\n",
      "- Accessories: Black leather belt, silver pendant necklace\n",
      "\n",
      "Outfit Combination 4:\n",
      "- Top: Navy blue polo shirt\n",
      "- Bottom: Khaki shorts\n",
      "- Shoe: Brown leather sandals\n",
      "- Accessories: Navy blue baseball cap, woven brown bracelet\n",
      "\n",
      "Outfit Combination 5:\n",
      "- Top: Light pink dress shirt (with rolled-up sleeves)\n",
      "- Bottom: Charcoal gray dress pants\n",
      "- Shoe: Black monk strap shoes\n",
      "- Accessories: Black leather belt, silver tie clip\n",
      "\n"
     ]
    }
   ],
   "source": [
    "sample = dataset[\"train\"][0]\n",
    "print(format_instruction(sample))"
   ]
  },
  {
   "cell_type": "markdown",
   "id": "76fc8eb5-cfb5-48da-8123-4da50bb67ab0",
   "metadata": {},
   "source": [
    "## Quantization"
   ]
  },
  {
   "cell_type": "code",
   "execution_count": null,
   "id": "e09a8d26-9b8d-412a-98d1-97d1c1db59b3",
   "metadata": {},
   "outputs": [],
   "source": [
    "# BitsAndBytesConfig to quantize the model int-4 config\n",
    "bnb_config = BitsAndBytesConfig(\n",
    "    load_in_4bit=True,\n",
    "    bnb_4bit_use_double_quant=True,\n",
    "    bnb_4bit_quant_type=\"nf4\",\n",
    "    bnb_4bit_compute_dtype=torch.bfloat16,\n",
    ")"
   ]
  },
  {
   "cell_type": "markdown",
   "id": "7f83c7e6-3d24-470c-91a9-a1d208b2b45a",
   "metadata": {},
   "source": [
    "## Model"
   ]
  },
  {
   "cell_type": "code",
   "execution_count": null,
   "id": "1527bcb2-542c-4a8e-bacc-5b5a2dcb8dc5",
   "metadata": {},
   "outputs": [],
   "source": [
    "model_id = \"mistralai/Mistral-7B-v0.3\""
   ]
  },
  {
   "cell_type": "code",
   "execution_count": null,
   "id": "fa98ef5e-461a-4a43-87a7-c2e0e200375a",
   "metadata": {},
   "outputs": [
    {
     "name": "stderr",
     "output_type": "stream",
     "text": [
      "/home/rohit/Desktop/rohit/virtualenvs/rohit_transformers/lib/python3.10/site-packages/huggingface_hub/file_download.py:1132: FutureWarning: `resume_download` is deprecated and will be removed in version 1.0.0. Downloads always resume when possible. If you want to force a new download, use `force_download=True`.\n",
      "  warnings.warn(\n"
     ]
    },
    {
     "data": {
      "application/vnd.jupyter.widget-view+json": {
       "model_id": "8149a703aa2c44038ddf1108e7af3f84",
       "version_major": 2,
       "version_minor": 0
      },
      "text/plain": [
       "Loading checkpoint shards:   0%|          | 0/3 [00:00<?, ?it/s]"
      ]
     },
     "metadata": {},
     "output_type": "display_data"
    }
   ],
   "source": [
    "# load model\n",
    "model = AutoModelForCausalLM.from_pretrained(\n",
    "    model_id, quantization_config=bnb_config, device_map=\"auto\"\n",
    ")"
   ]
  },
  {
   "cell_type": "code",
   "execution_count": null,
   "id": "71c7eb3e-997b-463d-9f63-d2a315b36fc4",
   "metadata": {},
   "outputs": [
    {
     "name": "stderr",
     "output_type": "stream",
     "text": [
      "You set `add_prefix_space`. The tokenizer needs to be converted from the slow tokenizers\n"
     ]
    }
   ],
   "source": [
    "tokenizer = AutoTokenizer.from_pretrained(model_id)\n",
    "tokenizer.pad_token = tokenizer.eos_token"
   ]
  },
  {
   "cell_type": "code",
   "execution_count": null,
   "id": "99e582b3-2286-458b-9770-65d20d991efe",
   "metadata": {},
   "outputs": [],
   "source": []
  },
  {
   "cell_type": "markdown",
   "id": "1788ef5c-4bbd-4b93-8728-0007715f1502",
   "metadata": {},
   "source": [
    "## Finetuning PEFT"
   ]
  },
  {
   "cell_type": "code",
   "execution_count": null,
   "id": "a0885f92-841f-438b-8951-9d4b7133b63d",
   "metadata": {},
   "outputs": [],
   "source": [
    "# LoRA config based on QLoRA paper\n",
    "peft_config = LoraConfig(\n",
    "    r=32,  # rank\n",
    "    lora_alpha=64,  # how much weight should be given to original weights\n",
    "    target_modules=[\n",
    "        \"q_proj\",\n",
    "        \"k_proj\",\n",
    "        \"v_proj\",\n",
    "        \"o_proj\",\n",
    "        \"gate_proj\",\n",
    "        \"up_proj\",\n",
    "        \"down_proj\",\n",
    "        \"lm_head\",\n",
    "    ],\n",
    "    bias=\"none\",\n",
    "    lora_dropout=0.05,\n",
    "    task_type=\"CAUSAL_LM\",\n",
    ")"
   ]
  },
  {
   "cell_type": "code",
   "execution_count": null,
   "id": "282ac44b-c309-4492-b326-7ddccf21a6e0",
   "metadata": {},
   "outputs": [
    {
     "name": "stdout",
     "output_type": "stream",
     "text": [
      "trainable params: 85,065,728 || all params: 7,333,089,280 || trainable%: 1.1600258056588124\n"
     ]
    }
   ],
   "source": [
    "model = prepare_model_for_kbit_training(model)\n",
    "model = get_peft_model(model, peft_config)\n",
    "model.print_trainable_parameters()"
   ]
  },
  {
   "cell_type": "code",
   "execution_count": null,
   "id": "5d6419de-b541-4233-bb5d-96f5f20a1fc9",
   "metadata": {},
   "outputs": [],
   "source": []
  },
  {
   "cell_type": "markdown",
   "id": "1e2dcfec-c55f-494f-8607-e425d38192d3",
   "metadata": {},
   "source": [
    "## Training"
   ]
  },
  {
   "cell_type": "code",
   "execution_count": null,
   "id": "fc0452c7-a409-4a89-a7f5-30f4a8dcba82",
   "metadata": {},
   "outputs": [],
   "source": [
    "model_args = TrainingArguments(\n",
    "    output_dir=\"./mistral-7b-style\",\n",
    "    num_train_epochs=3,\n",
    "    per_device_train_batch_size=4,\n",
    "    gradient_accumulation_steps=2,\n",
    "    gradient_checkpointing=True,\n",
    "    optim=\"paged_adamw_32bit\",\n",
    "    logging_steps=10,\n",
    "    save_strategy=\"epoch\",\n",
    "    learning_rate=2e-4,\n",
    "    bf16=True,\n",
    "    tf32=True,\n",
    "    max_grad_norm=0.3,\n",
    "    warmup_ratio=0.03,\n",
    "    lr_scheduler_type=\"constant\",\n",
    "    disable_tqdm=False,\n",
    ")"
   ]
  },
  {
   "cell_type": "markdown",
   "id": "cf9f4da9-5ca2-4903-b631-e5a742094698",
   "metadata": {},
   "source": [
    "## Fine tune only for response"
   ]
  },
  {
   "cell_type": "code",
   "execution_count": null,
   "id": "4f9c9666-4899-4bc9-a03a-0fecff52c5ad",
   "metadata": {},
   "outputs": [],
   "source": [
    "### Huggingface implementation is incorrect make your own with masked."
   ]
  },
  {
   "cell_type": "code",
   "execution_count": null,
   "id": "70d050ef-f4f2-403e-9c5d-469cb7a302f8",
   "metadata": {},
   "outputs": [],
   "source": [
    "# response_template = \"### Response:\"\n",
    "# collator = DataCollatorForCompletionOnlyLM(response_template, tokenizer=tokenizer)"
   ]
  },
  {
   "cell_type": "code",
   "execution_count": null,
   "id": "157aca1e-4c3b-4697-8e17-b4ed7165ac1a",
   "metadata": {},
   "outputs": [],
   "source": [
    "# def format_instruction2(inp, cntx, comp):\n",
    "#     s = f\"\"\"You are a personal stylist recommending fashion advice and clothing combinations. Use the self body and style description below, combined with the event described in the context to generate 5 self-contained and complete outfit combinations.\n",
    "# ### Input:\n",
    "# {inp}\n",
    "    \n",
    "# ### Context:\n",
    "# {cntx}\n",
    "    \n",
    "# ### Response:\n",
    "# {comp}\n",
    "# \"\"\"\n",
    "#     return s"
   ]
  },
  {
   "cell_type": "code",
   "execution_count": null,
   "id": "307093ed-0b30-4597-aed6-b0cb33bd0de6",
   "metadata": {},
   "outputs": [],
   "source": [
    "# def formatting_prompts_func_lst(example):\n",
    "#     # print(example)\n",
    "#     output_texts = []\n",
    "#     for i in range(len(example[\"input\"])):\n",
    "#         text = format_instruction2(\n",
    "#             example[\"input\"][i], example[\"context\"][i], example[\"completion\"][i]\n",
    "#         )\n",
    "#         output_texts.append(text)\n",
    "#     return output_texts"
   ]
  },
  {
   "cell_type": "code",
   "execution_count": null,
   "id": "81fe6417-fdac-4063-b84c-4cc688a71e2f",
   "metadata": {},
   "outputs": [
    {
     "data": {
      "application/vnd.jupyter.widget-view+json": {
       "model_id": "ca04e546c2094c768ff32616069a033b",
       "version_major": 2,
       "version_minor": 0
      },
      "text/plain": [
       "Generating train split: 0 examples [00:00, ? examples/s]"
      ]
     },
     "metadata": {},
     "output_type": "display_data"
    },
    {
     "name": "stderr",
     "output_type": "stream",
     "text": [
      "/home/rohit/Desktop/rohit/virtualenvs/rohit_transformers/lib/python3.10/site-packages/trl/trainer/sft_trainer.py:318: UserWarning: You passed a tokenizer with `padding_side` not equal to `right` to the SFTTrainer. This might lead to some unexpected behaviour due to overflow issues when training a model in half-precision. You might consider adding `tokenizer.padding_side = 'right'` to your code.\n",
      "  warnings.warn(\n"
     ]
    }
   ],
   "source": [
    "trainer = SFTTrainer(\n",
    "    model=model,\n",
    "    train_dataset=dataset[\"train\"],\n",
    "    peft_config=peft_config,\n",
    "    max_seq_length=2048,\n",
    "    tokenizer=tokenizer,\n",
    "    # packing=False,\n",
    "    packing=True,\n",
    "    # formatting_func=formatting_prompts_func_lst,\n",
    "    formatting_func=format_instruction,\n",
    "    # data_collator=collator,\n",
    "    args=model_args,\n",
    ")"
   ]
  },
  {
   "cell_type": "code",
   "execution_count": null,
   "id": "661d3ce0-ae0f-41b1-b9d7-f5bd88d188e9",
   "metadata": {},
   "outputs": [
    {
     "name": "stderr",
     "output_type": "stream",
     "text": [
      "`use_cache=True` is incompatible with gradient checkpointing. Setting `use_cache=False`...\n",
      "/home/rohit/Desktop/rohit/virtualenvs/rohit_transformers/lib/python3.10/site-packages/torch/utils/checkpoint.py:464: UserWarning: torch.utils.checkpoint: the use_reentrant parameter should be passed explicitly. In version 2.4 we will raise an exception if use_reentrant is not passed. use_reentrant=False is recommended, but if you need to preserve the current default behavior, you can pass use_reentrant=True. Refer to docs for more details on the differences between the two variants.\n",
      "  warnings.warn(\n"
     ]
    },
    {
     "data": {
      "text/html": [
       "\n",
       "    <div>\n",
       "      \n",
       "      <progress value='37' max='399' style='width:300px; height:20px; vertical-align: middle;'></progress>\n",
       "      [ 37/399 11:28 < 1:58:37, 0.05 it/s, Epoch 0.27/3]\n",
       "    </div>\n",
       "    <table border=\"1\" class=\"dataframe\">\n",
       "  <thead>\n",
       " <tr style=\"text-align: left;\">\n",
       "      <th>Step</th>\n",
       "      <th>Training Loss</th>\n",
       "    </tr>\n",
       "  </thead>\n",
       "  <tbody>\n",
       "    <tr>\n",
       "      <td>10</td>\n",
       "      <td>0.822700</td>\n",
       "    </tr>\n",
       "    <tr>\n",
       "      <td>20</td>\n",
       "      <td>0.660000</td>\n",
       "    </tr>\n",
       "    <tr>\n",
       "      <td>30</td>\n",
       "      <td>0.615300</td>\n",
       "    </tr>\n",
       "  </tbody>\n",
       "</table><p>"
      ],
      "text/plain": [
       "<IPython.core.display.HTML object>"
      ]
     },
     "metadata": {},
     "output_type": "display_data"
    }
   ],
   "source": [
    "trainer.train()"
   ]
  },
  {
   "cell_type": "code",
   "execution_count": null,
   "id": "22d220dd-0df5-4b16-af06-3156163cfc06",
   "metadata": {},
   "outputs": [],
   "source": []
  }
 ],
 "metadata": {
  "kernelspec": {
   "display_name": "python3",
   "language": "python",
   "name": "python3"
  }
 },
 "nbformat": 4,
 "nbformat_minor": 5
}
