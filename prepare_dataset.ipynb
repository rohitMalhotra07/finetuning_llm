{
 "cells": [
  {
   "cell_type": "code",
   "execution_count": null,
   "id": "330c299c-453c-45ab-b60f-92ff94587da0",
   "metadata": {},
   "outputs": [],
   "source": [
    "import pandas as pd\n",
    "from datasets import Dataset, DatasetDict, NamedSplit"
   ]
  },
  {
   "cell_type": "code",
   "execution_count": null,
   "id": "f38aafc7-e298-4b10-b3a3-01e5dcb06996",
   "metadata": {},
   "outputs": [],
   "source": []
  },
  {
   "cell_type": "code",
   "execution_count": null,
   "id": "71003b52-d883-40ed-a3ae-2a7a5d50531d",
   "metadata": {},
   "outputs": [],
   "source": [
    "dataset_path = \"./data/used_car_sales/car_prices.csv\""
   ]
  },
  {
   "cell_type": "code",
   "execution_count": null,
   "id": "8d426609-d399-49af-8dc0-b09e68e5bcdc",
   "metadata": {},
   "outputs": [],
   "source": []
  },
  {
   "cell_type": "code",
   "execution_count": null,
   "id": "06abbb47-7bec-46c7-8c6c-1c2d78f71287",
   "metadata": {},
   "outputs": [],
   "source": [
    "df = pd.read_csv(dataset_path)"
   ]
  },
  {
   "cell_type": "markdown",
   "id": "1d6dd11a-92ff-4745-aed2-0da02fd07bd2",
   "metadata": {},
   "source": [
    "## EDA Dataset"
   ]
  },
  {
   "cell_type": "code",
   "execution_count": null,
   "id": "65b3c1e3-cda0-4abc-bd38-a903212fea84",
   "metadata": {},
   "outputs": [
    {
     "data": {
      "text/plain": [
       "Index(['year', 'make', 'model', 'trim', 'body', 'transmission', 'vin', 'state',\n",
       "       'condition', 'odometer', 'color', 'interior', 'seller', 'mmr',\n",
       "       'sellingprice', 'saledate'],\n",
       "      dtype='object')"
      ]
     },
     "execution_count": null,
     "metadata": {},
     "output_type": "execute_result"
    }
   ],
   "source": [
    "df.columns"
   ]
  },
  {
   "cell_type": "code",
   "execution_count": null,
   "id": "fda9ef2f-a129-46f7-92f9-694049d82bcf",
   "metadata": {},
   "outputs": [
    {
     "data": {
      "text/plain": [
       "year              int64\n",
       "make             object\n",
       "model            object\n",
       "trim             object\n",
       "body             object\n",
       "transmission     object\n",
       "vin              object\n",
       "state            object\n",
       "condition       float64\n",
       "odometer        float64\n",
       "color            object\n",
       "interior         object\n",
       "seller           object\n",
       "mmr             float64\n",
       "sellingprice    float64\n",
       "saledate         object\n",
       "dtype: object"
      ]
     },
     "execution_count": null,
     "metadata": {},
     "output_type": "execute_result"
    }
   ],
   "source": [
    "df.dtypes"
   ]
  },
  {
   "cell_type": "code",
   "execution_count": null,
   "id": "6941d938-6037-422b-a67e-7dac30b2b72c",
   "metadata": {},
   "outputs": [
    {
     "name": "stdout",
     "output_type": "stream",
     "text": [
      "<class 'pandas.core.frame.DataFrame'>\n",
      "RangeIndex: 558837 entries, 0 to 558836\n",
      "Data columns (total 16 columns):\n",
      " #   Column        Non-Null Count   Dtype  \n",
      "---  ------        --------------   -----  \n",
      " 0   year          558837 non-null  int64  \n",
      " 1   make          548536 non-null  object \n",
      " 2   model         548438 non-null  object \n",
      " 3   trim          548186 non-null  object \n",
      " 4   body          545642 non-null  object \n",
      " 5   transmission  493485 non-null  object \n",
      " 6   vin           558833 non-null  object \n",
      " 7   state         558837 non-null  object \n",
      " 8   condition     547017 non-null  float64\n",
      " 9   odometer      558743 non-null  float64\n",
      " 10  color         558088 non-null  object \n",
      " 11  interior      558088 non-null  object \n",
      " 12  seller        558837 non-null  object \n",
      " 13  mmr           558799 non-null  float64\n",
      " 14  sellingprice  558825 non-null  float64\n",
      " 15  saledate      558825 non-null  object \n",
      "dtypes: float64(4), int64(1), object(11)\n",
      "memory usage: 68.2+ MB\n"
     ]
    }
   ],
   "source": [
    "df.info()"
   ]
  },
  {
   "cell_type": "code",
   "execution_count": null,
   "id": "2209b697-de1a-480d-b386-3f06fc95f3e6",
   "metadata": {},
   "outputs": [],
   "source": []
  },
  {
   "cell_type": "code",
   "execution_count": null,
   "id": "9b1959cf-4876-48e0-9b67-de3eb0ee883e",
   "metadata": {},
   "outputs": [],
   "source": [
    "def pre_process_data(df):\n",
    "    df = df[~df.sellingprice.isna()].reset_index(drop=True)\n",
    "    df[\"saledate\"] = pd.to_datetime(df[\"saledate\"], errors=\"coerce\", utc=True)\n",
    "    df = df[df[\"saledate\"].between(\"1940-01-01\", \"2025-01-01\")].reset_index(drop=True)\n",
    "    df[\"sales_year\"] = df.saledate.apply(lambda x: x.year)\n",
    "    df = df[~df.odometer.isna()].reset_index(drop=True)\n",
    "\n",
    "    columns_to_use = [\n",
    "        \"year\",\n",
    "        \"make\",\n",
    "        \"model\",\n",
    "        \"trim\",\n",
    "        \"body\",\n",
    "        \"transmission\",\n",
    "        \"state\",\n",
    "        \"condition\",\n",
    "        \"odometer\",\n",
    "        \"color\",\n",
    "        \"interior\",\n",
    "        \"mmr\",\n",
    "        \"sales_year\",\n",
    "        \"sellingprice\",\n",
    "    ]\n",
    "\n",
    "    df = df[columns_to_use]\n",
    "    df[\"condition\"] = df.condition.fillna(\"not given\").astype(str)\n",
    "    df = df.fillna(\"not given\")\n",
    "\n",
    "    return df"
   ]
  },
  {
   "cell_type": "code",
   "execution_count": null,
   "id": "6c37045c-029d-4a13-abd0-ea665d33d269",
   "metadata": {},
   "outputs": [
    {
     "name": "stderr",
     "output_type": "stream",
     "text": [
      "/tmp/ipykernel_12849/1938723959.py:3: UserWarning: Could not infer format, so each element will be parsed individually, falling back to `dateutil`. To ensure parsing is consistent and as-expected, please specify a format.\n",
      "  df[\"saledate\"] = pd.to_datetime(df[\"saledate\"], errors=\"coerce\", utc=True)\n"
     ]
    }
   ],
   "source": [
    "df = pre_process_data(df)"
   ]
  },
  {
   "cell_type": "code",
   "execution_count": null,
   "id": "6e89aa64-d2bb-4c65-8f63-df7ccaced96d",
   "metadata": {},
   "outputs": [
    {
     "name": "stdout",
     "output_type": "stream",
     "text": [
      "<class 'pandas.core.frame.DataFrame'>\n",
      "RangeIndex: 558705 entries, 0 to 558704\n",
      "Data columns (total 14 columns):\n",
      " #   Column        Non-Null Count   Dtype  \n",
      "---  ------        --------------   -----  \n",
      " 0   year          558705 non-null  int64  \n",
      " 1   make          558705 non-null  object \n",
      " 2   model         558705 non-null  object \n",
      " 3   trim          558705 non-null  object \n",
      " 4   body          558705 non-null  object \n",
      " 5   transmission  558705 non-null  object \n",
      " 6   state         558705 non-null  object \n",
      " 7   condition     558705 non-null  object \n",
      " 8   odometer      558705 non-null  float64\n",
      " 9   color         558705 non-null  object \n",
      " 10  interior      558705 non-null  object \n",
      " 11  mmr           558705 non-null  float64\n",
      " 12  sales_year    558705 non-null  int64  \n",
      " 13  sellingprice  558705 non-null  float64\n",
      "dtypes: float64(3), int64(2), object(9)\n",
      "memory usage: 59.7+ MB\n"
     ]
    }
   ],
   "source": [
    "df.info()"
   ]
  },
  {
   "cell_type": "code",
   "execution_count": null,
   "id": "3d764ea9-7b10-4f4a-93a2-803dd27612e8",
   "metadata": {},
   "outputs": [],
   "source": [
    "def prepare_input_text(row):\n",
    "    instruct_txt = \"Properties of car: \"\n",
    "    for clm in [\n",
    "        \"year\",\n",
    "        \"make\",\n",
    "        \"model\",\n",
    "        \"trim\",\n",
    "        \"body\",\n",
    "        \"transmission\",\n",
    "        \"state\",\n",
    "        \"condition\",\n",
    "        \"odometer\",\n",
    "        \"color\",\n",
    "        \"interior\",\n",
    "        \"mmr\",\n",
    "        \"sales_year\",\n",
    "    ]:\n",
    "        instruct_txt += f\"{clm} is {row[clm]}, \"\n",
    "\n",
    "    return instruct_txt.strip()[:-1]+'.'"
   ]
  },
  {
   "cell_type": "code",
   "execution_count": null,
   "id": "22bc5117-5cf9-4813-9689-bb277a35d23b",
   "metadata": {},
   "outputs": [],
   "source": []
  },
  {
   "cell_type": "code",
   "execution_count": null,
   "id": "6d623d9d-ab0d-43d8-b112-fccc2a242805",
   "metadata": {},
   "outputs": [],
   "source": [
    "df_new = pd.DataFrame(columns = ['input','output'])"
   ]
  },
  {
   "cell_type": "code",
   "execution_count": null,
   "id": "a4fae65c-5d55-42d0-a172-c53530316212",
   "metadata": {},
   "outputs": [
    {
     "data": {
      "text/html": [
       "<div>\n",
       "<style scoped>\n",
       "    .dataframe tbody tr th:only-of-type {\n",
       "        vertical-align: middle;\n",
       "    }\n",
       "\n",
       "    .dataframe tbody tr th {\n",
       "        vertical-align: top;\n",
       "    }\n",
       "\n",
       "    .dataframe thead th {\n",
       "        text-align: right;\n",
       "    }\n",
       "</style>\n",
       "<table border=\"1\" class=\"dataframe\">\n",
       "  <thead>\n",
       "    <tr style=\"text-align: right;\">\n",
       "      <th></th>\n",
       "      <th>input</th>\n",
       "      <th>output</th>\n",
       "    </tr>\n",
       "  </thead>\n",
       "  <tbody>\n",
       "  </tbody>\n",
       "</table>\n",
       "</div>"
      ],
      "text/plain": [
       "Empty DataFrame\n",
       "Columns: [input, output]\n",
       "Index: []"
      ]
     },
     "execution_count": null,
     "metadata": {},
     "output_type": "execute_result"
    }
   ],
   "source": [
    "df_new"
   ]
  },
  {
   "cell_type": "code",
   "execution_count": null,
   "id": "ff6e15fc-1004-449d-8717-88742ccc76a0",
   "metadata": {},
   "outputs": [],
   "source": []
  },
  {
   "cell_type": "code",
   "execution_count": null,
   "id": "c9c2db4d-77cf-4265-af3e-f1fdacc4f147",
   "metadata": {},
   "outputs": [],
   "source": [
    "df_new['input'] = df.apply(lambda x: prepare_input_text(x),axis=1)"
   ]
  },
  {
   "cell_type": "code",
   "execution_count": null,
   "id": "7e43a82c-350c-4d83-a56f-28b9c634b385",
   "metadata": {},
   "outputs": [],
   "source": [
    "df_new['output'] = df.sellingprice"
   ]
  },
  {
   "cell_type": "code",
   "execution_count": null,
   "id": "bfc59419-a827-43a0-989f-3b494ebd5bde",
   "metadata": {},
   "outputs": [
    {
     "data": {
      "text/plain": [
       "'Properties of car: year is 2015, make is Kia, model is Sorento, trim is LX, body is SUV, transmission is automatic, state is ca, condition is 5.0, odometer is 16639.0, color is white, interior is black, mmr is 20500.0, sales_year is 2014.'"
      ]
     },
     "execution_count": null,
     "metadata": {},
     "output_type": "execute_result"
    }
   ],
   "source": [
    "df_new.iloc[0].input"
   ]
  },
  {
   "cell_type": "code",
   "execution_count": null,
   "id": "dcefb26f-8eca-4f3d-b56a-1681f0aab4d4",
   "metadata": {},
   "outputs": [
    {
     "data": {
      "text/html": [
       "<div>\n",
       "<style scoped>\n",
       "    .dataframe tbody tr th:only-of-type {\n",
       "        vertical-align: middle;\n",
       "    }\n",
       "\n",
       "    .dataframe tbody tr th {\n",
       "        vertical-align: top;\n",
       "    }\n",
       "\n",
       "    .dataframe thead th {\n",
       "        text-align: right;\n",
       "    }\n",
       "</style>\n",
       "<table border=\"1\" class=\"dataframe\">\n",
       "  <thead>\n",
       "    <tr style=\"text-align: right;\">\n",
       "      <th></th>\n",
       "      <th>input</th>\n",
       "      <th>output</th>\n",
       "    </tr>\n",
       "  </thead>\n",
       "  <tbody>\n",
       "    <tr>\n",
       "      <th>0</th>\n",
       "      <td>Properties of car: year is 2015, make is Kia, ...</td>\n",
       "      <td>21500.0</td>\n",
       "    </tr>\n",
       "    <tr>\n",
       "      <th>1</th>\n",
       "      <td>Properties of car: year is 2015, make is Kia, ...</td>\n",
       "      <td>21500.0</td>\n",
       "    </tr>\n",
       "    <tr>\n",
       "      <th>2</th>\n",
       "      <td>Properties of car: year is 2014, make is BMW, ...</td>\n",
       "      <td>30000.0</td>\n",
       "    </tr>\n",
       "    <tr>\n",
       "      <th>3</th>\n",
       "      <td>Properties of car: year is 2015, make is Volvo...</td>\n",
       "      <td>27750.0</td>\n",
       "    </tr>\n",
       "    <tr>\n",
       "      <th>4</th>\n",
       "      <td>Properties of car: year is 2014, make is BMW, ...</td>\n",
       "      <td>67000.0</td>\n",
       "    </tr>\n",
       "    <tr>\n",
       "      <th>...</th>\n",
       "      <td>...</td>\n",
       "      <td>...</td>\n",
       "    </tr>\n",
       "    <tr>\n",
       "      <th>558700</th>\n",
       "      <td>Properties of car: year is 2015, make is Kia, ...</td>\n",
       "      <td>33000.0</td>\n",
       "    </tr>\n",
       "    <tr>\n",
       "      <th>558701</th>\n",
       "      <td>Properties of car: year is 2012, make is Ram, ...</td>\n",
       "      <td>30800.0</td>\n",
       "    </tr>\n",
       "    <tr>\n",
       "      <th>558702</th>\n",
       "      <td>Properties of car: year is 2012, make is BMW, ...</td>\n",
       "      <td>34000.0</td>\n",
       "    </tr>\n",
       "    <tr>\n",
       "      <th>558703</th>\n",
       "      <td>Properties of car: year is 2015, make is Nissa...</td>\n",
       "      <td>11100.0</td>\n",
       "    </tr>\n",
       "    <tr>\n",
       "      <th>558704</th>\n",
       "      <td>Properties of car: year is 2014, make is Ford,...</td>\n",
       "      <td>26700.0</td>\n",
       "    </tr>\n",
       "  </tbody>\n",
       "</table>\n",
       "<p>558705 rows × 2 columns</p>\n",
       "</div>"
      ],
      "text/plain": [
       "                                                    input   output\n",
       "0       Properties of car: year is 2015, make is Kia, ...  21500.0\n",
       "1       Properties of car: year is 2015, make is Kia, ...  21500.0\n",
       "2       Properties of car: year is 2014, make is BMW, ...  30000.0\n",
       "3       Properties of car: year is 2015, make is Volvo...  27750.0\n",
       "4       Properties of car: year is 2014, make is BMW, ...  67000.0\n",
       "...                                                   ...      ...\n",
       "558700  Properties of car: year is 2015, make is Kia, ...  33000.0\n",
       "558701  Properties of car: year is 2012, make is Ram, ...  30800.0\n",
       "558702  Properties of car: year is 2012, make is BMW, ...  34000.0\n",
       "558703  Properties of car: year is 2015, make is Nissa...  11100.0\n",
       "558704  Properties of car: year is 2014, make is Ford,...  26700.0\n",
       "\n",
       "[558705 rows x 2 columns]"
      ]
     },
     "execution_count": null,
     "metadata": {},
     "output_type": "execute_result"
    }
   ],
   "source": [
    "df_new"
   ]
  },
  {
   "cell_type": "code",
   "execution_count": null,
   "id": "2897b0a7-8504-440f-bb8d-b595c1bcd59c",
   "metadata": {},
   "outputs": [
    {
     "data": {
      "text/plain": [
       "count    558705.000000\n",
       "mean        245.766997\n",
       "std           6.841599\n",
       "min         226.000000\n",
       "25%         241.000000\n",
       "50%         244.000000\n",
       "75%         249.000000\n",
       "max         287.000000\n",
       "Name: input, dtype: float64"
      ]
     },
     "execution_count": null,
     "metadata": {},
     "output_type": "execute_result"
    }
   ],
   "source": [
    "df_new.input.apply(lambda x: len(x)).describe()"
   ]
  },
  {
   "cell_type": "code",
   "execution_count": null,
   "id": "7806466f-b782-494f-8d0b-ea94adc8105b",
   "metadata": {},
   "outputs": [],
   "source": []
  },
  {
   "cell_type": "code",
   "execution_count": null,
   "id": "ffaba917-af77-4a56-a7c4-5315c04366ea",
   "metadata": {},
   "outputs": [],
   "source": [
    "dataset = Dataset.from_pandas(df_new, split=NamedSplit(\"train\"))"
   ]
  },
  {
   "cell_type": "code",
   "execution_count": null,
   "id": "e0039a2d-a9a6-4b61-944e-a85dd939af9b",
   "metadata": {},
   "outputs": [],
   "source": []
  },
  {
   "cell_type": "code",
   "execution_count": null,
   "id": "fb204ce0-b8d2-4362-92b0-b135e25ecea2",
   "metadata": {},
   "outputs": [],
   "source": [
    "train_testvalid = dataset.train_test_split(test_size=0.2)\n",
    "# Split the 10% test + valid in half test, half valid\n",
    "test_valid = train_testvalid[\"test\"].train_test_split(test_size=0.5)\n",
    "# gather everyone if you want to have a single DatasetDict\n",
    "dataset_new = DatasetDict(\n",
    "    {\n",
    "        \"train\": train_testvalid[\"train\"],\n",
    "        \"test\": test_valid[\"test\"],\n",
    "        \"valid\": test_valid[\"train\"],\n",
    "    }\n",
    ")"
   ]
  },
  {
   "cell_type": "code",
   "execution_count": null,
   "id": "f69adad1-f6fa-41ef-ba86-7a06d7ae5fcb",
   "metadata": {},
   "outputs": [
    {
     "data": {
      "text/plain": [
       "DatasetDict({\n",
       "    train: Dataset({\n",
       "        features: ['input', 'output'],\n",
       "        num_rows: 446964\n",
       "    })\n",
       "    test: Dataset({\n",
       "        features: ['input', 'output'],\n",
       "        num_rows: 55871\n",
       "    })\n",
       "    valid: Dataset({\n",
       "        features: ['input', 'output'],\n",
       "        num_rows: 55870\n",
       "    })\n",
       "})"
      ]
     },
     "execution_count": null,
     "metadata": {},
     "output_type": "execute_result"
    }
   ],
   "source": [
    "dataset_new"
   ]
  },
  {
   "cell_type": "code",
   "execution_count": null,
   "id": "08a134f7-7b66-4c08-a206-6543adb4c4ab",
   "metadata": {},
   "outputs": [
    {
     "data": {
      "application/vnd.jupyter.widget-view+json": {
       "model_id": "5d6a6283ab9446e08e7face43ffdd24f",
       "version_major": 2,
       "version_minor": 0
      },
      "text/plain": [
       "Saving the dataset (0/1 shards):   0%|          | 0/446964 [00:00<?, ? examples/s]"
      ]
     },
     "metadata": {},
     "output_type": "display_data"
    },
    {
     "data": {
      "application/vnd.jupyter.widget-view+json": {
       "model_id": "f797d8c5b67d49fc8bb93ec2bfabad0a",
       "version_major": 2,
       "version_minor": 0
      },
      "text/plain": [
       "Saving the dataset (0/1 shards):   0%|          | 0/55871 [00:00<?, ? examples/s]"
      ]
     },
     "metadata": {},
     "output_type": "display_data"
    },
    {
     "data": {
      "application/vnd.jupyter.widget-view+json": {
       "model_id": "ae3b2bf9f47b45d8be5af52b64a412ec",
       "version_major": 2,
       "version_minor": 0
      },
      "text/plain": [
       "Saving the dataset (0/1 shards):   0%|          | 0/55870 [00:00<?, ? examples/s]"
      ]
     },
     "metadata": {},
     "output_type": "display_data"
    }
   ],
   "source": [
    "dataset_new.save_to_disk(\"./data/used_car_sales/prepared_car_sales_data\")"
   ]
  },
  {
   "cell_type": "code",
   "execution_count": null,
   "id": "d007d1cd-58c0-49a3-9430-496332d0d2c5",
   "metadata": {},
   "outputs": [],
   "source": []
  }
 ],
 "metadata": {
  "kernelspec": {
   "display_name": "python3",
   "language": "python",
   "name": "python3"
  }
 },
 "nbformat": 4,
 "nbformat_minor": 5
}
