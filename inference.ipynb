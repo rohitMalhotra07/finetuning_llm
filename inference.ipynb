{
 "cells": [
  {
   "cell_type": "code",
   "execution_count": null,
   "id": "6a6023d7-1bc4-4d38-ab4d-0d0d1976d694",
   "metadata": {},
   "outputs": [],
   "source": [
    "from datasets import load_from_disk\n",
    "from transformers import AutoModelForCausalLM, AutoTokenizer"
   ]
  },
  {
   "cell_type": "code",
   "execution_count": null,
   "id": "a53bed5a-ec3f-49d6-875a-e483d0af30b2",
   "metadata": {},
   "outputs": [],
   "source": []
  },
  {
   "cell_type": "code",
   "execution_count": null,
   "id": "3301ba24-29c5-4ff8-842f-e89fe68c7c16",
   "metadata": {},
   "outputs": [],
   "source": [
    "class Config:\n",
    "    data_path = \"./data/used_car_sales/prepared_car_sales_data\"\n",
    "    model_name = \"stabilityai/stablelm-3b-4e1t\"\n",
    "    run_name = \"stability_stablelm_3b\""
   ]
  },
  {
   "cell_type": "code",
   "execution_count": null,
   "id": "d076beff-511d-4d15-bbde-9e3318d6cda3",
   "metadata": {},
   "outputs": [],
   "source": [
    "cnfg = Config()"
   ]
  },
  {
   "cell_type": "code",
   "execution_count": null,
   "id": "d1dd5718-9c9e-4532-908c-f41e0f8e8f2b",
   "metadata": {},
   "outputs": [],
   "source": []
  },
  {
   "cell_type": "code",
   "execution_count": null,
   "id": "ae588b93-00df-47d5-bc1f-966c29f0ae88",
   "metadata": {},
   "outputs": [
    {
     "name": "stderr",
     "output_type": "stream",
     "text": [
      "/home/rohit/Desktop/rohit/virtualenvs/rohit_transformers/lib/python3.10/site-packages/huggingface_hub/file_download.py:1132: FutureWarning: `resume_download` is deprecated and will be removed in version 1.0.0. Downloads always resume when possible. If you want to force a new download, use `force_download=True`.\n",
      "  warnings.warn(\n",
      "Special tokens have been added in the vocabulary, make sure the associated word embeddings are fine-tuned or trained.\n"
     ]
    }
   ],
   "source": [
    "tokenizer = AutoTokenizer.from_pretrained(\n",
    "    \"stabilityai/stablelm-3b-4e1t\", padding_side=\"right\"\n",
    ")\n",
    "model = AutoModelForCausalLM.from_pretrained(\"./car_sales_predictor/checkpoint-300\")"
   ]
  },
  {
   "cell_type": "code",
   "execution_count": null,
   "id": "3d42ea4b-6c0d-4a1d-83e4-909f829ca40b",
   "metadata": {},
   "outputs": [],
   "source": [
    "def create_promt_no_output(x):\n",
    "    rslt = f\"{x}\\n ### Instruction:\\n Predict the selling price of car as a non-negative number.\\n ### Response:\"\n",
    "    return rslt"
   ]
  },
  {
   "cell_type": "code",
   "execution_count": null,
   "id": "2330ecd1-230d-4b04-a06f-62846523eb3e",
   "metadata": {},
   "outputs": [],
   "source": [
    "def get_prediction(prop_inp):\n",
    "    prompt = create_promt_no_output(prop_inp)\n",
    "    print(prompt)\n",
    "    input_ = tokenizer(prompt, return_tensors=\"pt\", max_length=512)\n",
    "\n",
    "    outputs = model.generate(\n",
    "        input_ids=input_.input_ids,\n",
    "        attention_mask=input_.attention_mask,\n",
    "        max_new_tokens=20,\n",
    "    )\n",
    "    resp = tokenizer.decode(outputs[0], skip_special_tokens=True)\n",
    "    return resp"
   ]
  },
  {
   "cell_type": "code",
   "execution_count": null,
   "id": "81388fe3-2d62-472b-b851-183154f2027c",
   "metadata": {},
   "outputs": [],
   "source": []
  },
  {
   "cell_type": "code",
   "execution_count": null,
   "id": "97fc17aa-88bf-4cb6-a106-3c7b6d70af55",
   "metadata": {},
   "outputs": [],
   "source": []
  },
  {
   "cell_type": "code",
   "execution_count": null,
   "id": "7f6fffc3-1bf3-4942-b9d3-fd79e2c9f927",
   "metadata": {},
   "outputs": [],
   "source": [
    "dataset = load_from_disk(cnfg.data_path)"
   ]
  },
  {
   "cell_type": "code",
   "execution_count": null,
   "id": "b4c6f2de-e36a-4e16-b0af-4817e9866dd7",
   "metadata": {},
   "outputs": [],
   "source": [
    "dataset = dataset[\"test\"]"
   ]
  },
  {
   "cell_type": "code",
   "execution_count": null,
   "id": "3ee49244-3bf2-4e1e-bc82-e41535fda891",
   "metadata": {},
   "outputs": [],
   "source": [
    "tmp_dl = iter(dataset)"
   ]
  },
  {
   "cell_type": "code",
   "execution_count": null,
   "id": "4de30e87-2b13-4def-a197-53934f0c75e0",
   "metadata": {},
   "outputs": [
    {
     "data": {
      "text/plain": [
       "{'input': 'Properties of car: year is 2014, make is Kia, model is Sorento, trim is LX, body is SUV, transmission is automatic, state is co, condition is 41.0, odometer is 38588.0, color is brown, interior is black, mmr is 17200.0, sales_year is 2015.',\n",
       " 'output': 17400.0}"
      ]
     },
     "execution_count": null,
     "metadata": {},
     "output_type": "execute_result"
    }
   ],
   "source": [
    "tmp_data_point = next(tmp_dl)\n",
    "tmp_data_point"
   ]
  },
  {
   "cell_type": "code",
   "execution_count": null,
   "id": "86a0d18d-1828-4d68-a9a3-7524be7eb8bf",
   "metadata": {},
   "outputs": [
    {
     "name": "stderr",
     "output_type": "stream",
     "text": [
      "Setting `pad_token_id` to `eos_token_id`:0 for open-end generation.\n"
     ]
    },
    {
     "name": "stdout",
     "output_type": "stream",
     "text": [
      "Properties of car: year is 2014, make is Kia, model is Sorento, trim is LX, body is SUV, transmission is automatic, state is co, condition is 41.0, odometer is 38588.0, color is brown, interior is black, mmr is 17200.0, sales_year is 2015.\n",
      " ### Instruction:\n",
      " Predict the selling price of car as a non-negative number.\n",
      " ### Response:\n"
     ]
    },
    {
     "data": {
      "text/plain": [
       "'Properties of car: year is 2014, make is Kia, model is Sorento, trim is LX, body is SUV, transmission is automatic, state is co, condition is 41.0, odometer is 38588.0, color is brown, interior is black, mmr is 17200.0, sales_year is 2015.\\n ### Instruction:\\n Predict the selling price of car as a non-negative number.\\n ### Response:\\n17200.0'"
      ]
     },
     "execution_count": null,
     "metadata": {},
     "output_type": "execute_result"
    }
   ],
   "source": [
    "get_prediction(tmp_data_point['input'])"
   ]
  },
  {
   "cell_type": "code",
   "execution_count": null,
   "id": "272044b7-73c4-479f-ab55-f61f04d019db",
   "metadata": {},
   "outputs": [
    {
     "data": {
      "text/plain": [
       "{'input': 'Properties of car: year is 2014, make is Toyota, model is Corolla, trim is LE, body is Sedan, transmission is automatic, state is ga, condition is 34.0, odometer is 46797.0, color is gray, interior is gray, mmr is 12700.0, sales_year is 2015.',\n",
       " 'output': 12400.0}"
      ]
     },
     "execution_count": null,
     "metadata": {},
     "output_type": "execute_result"
    }
   ],
   "source": [
    "tmp_data_point = next(tmp_dl)\n",
    "tmp_data_point"
   ]
  },
  {
   "cell_type": "code",
   "execution_count": null,
   "id": "708aee58-4d0f-4ce1-afa2-9360bdc2c1d1",
   "metadata": {},
   "outputs": [
    {
     "name": "stderr",
     "output_type": "stream",
     "text": [
      "Setting `pad_token_id` to `eos_token_id`:0 for open-end generation.\n"
     ]
    },
    {
     "name": "stdout",
     "output_type": "stream",
     "text": [
      "Properties of car: year is 2014, make is Toyota, model is Corolla, trim is LE, body is Sedan, transmission is automatic, state is ga, condition is 34.0, odometer is 46797.0, color is gray, interior is gray, mmr is 12700.0, sales_year is 2015.\n",
      " ### Instruction:\n",
      " Predict the selling price of car as a non-negative number.\n",
      " ### Response:\n"
     ]
    },
    {
     "data": {
      "text/plain": [
       "'Properties of car: year is 2014, make is Toyota, model is Corolla, trim is LE, body is Sedan, transmission is automatic, state is ga, condition is 34.0, odometer is 46797.0, color is gray, interior is gray, mmr is 12700.0, sales_year is 2015.\\n ### Instruction:\\n Predict the selling price of car as a non-negative number.\\n ### Response:\\n13000.0'"
      ]
     },
     "execution_count": null,
     "metadata": {},
     "output_type": "execute_result"
    }
   ],
   "source": [
    "get_prediction(tmp_data_point['input'])"
   ]
  },
  {
   "cell_type": "code",
   "execution_count": null,
   "id": "0bd0874d-00ef-4a0f-ad86-f1680f6dad55",
   "metadata": {},
   "outputs": [],
   "source": []
  }
 ],
 "metadata": {
  "kernelspec": {
   "display_name": "python3",
   "language": "python",
   "name": "python3"
  }
 },
 "nbformat": 4,
 "nbformat_minor": 5
}
