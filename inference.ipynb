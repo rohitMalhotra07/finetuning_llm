{
 "cells": [
  {
   "cell_type": "code",
   "execution_count": null,
   "id": "6a6023d7-1bc4-4d38-ab4d-0d0d1976d694",
   "metadata": {},
   "outputs": [],
   "source": [
    "from datasets import load_from_disk\n",
    "from transformers import AutoModelForCausalLM, AutoTokenizer"
   ]
  },
  {
   "cell_type": "code",
   "execution_count": null,
   "id": "a53bed5a-ec3f-49d6-875a-e483d0af30b2",
   "metadata": {},
   "outputs": [],
   "source": []
  },
  {
   "cell_type": "code",
   "execution_count": null,
   "id": "3301ba24-29c5-4ff8-842f-e89fe68c7c16",
   "metadata": {},
   "outputs": [],
   "source": [
    "class Config:\n",
    "    data_path = \"./data/used_car_sales/prepared_car_sales_data\"\n",
    "    model_name = \"stabilityai/stablelm-3b-4e1t\"\n",
    "    run_name = \"stability_stablelm_3b\""
   ]
  },
  {
   "cell_type": "code",
   "execution_count": null,
   "id": "d076beff-511d-4d15-bbde-9e3318d6cda3",
   "metadata": {},
   "outputs": [],
   "source": [
    "cnfg = Config()"
   ]
  },
  {
   "cell_type": "code",
   "execution_count": null,
   "id": "d1dd5718-9c9e-4532-908c-f41e0f8e8f2b",
   "metadata": {},
   "outputs": [],
   "source": []
  },
  {
   "cell_type": "code",
   "execution_count": null,
   "id": "ae588b93-00df-47d5-bc1f-966c29f0ae88",
   "metadata": {},
   "outputs": [
    {
     "name": "stderr",
     "output_type": "stream",
     "text": [
      "/home/rohit/Desktop/rohit/virtualenvs/rohit_transformers/lib/python3.10/site-packages/huggingface_hub/file_download.py:1132: FutureWarning: `resume_download` is deprecated and will be removed in version 1.0.0. Downloads always resume when possible. If you want to force a new download, use `force_download=True`.\n",
      "  warnings.warn(\n",
      "Special tokens have been added in the vocabulary, make sure the associated word embeddings are fine-tuned or trained.\n"
     ]
    }
   ],
   "source": [
    "tokenizer = AutoTokenizer.from_pretrained(\n",
    "    \"stabilityai/stablelm-3b-4e1t\", padding_side=\"right\"\n",
    ")\n",
    "model = AutoModelForCausalLM.from_pretrained(\"./car_sales_predictor/checkpoint-300\")"
   ]
  },
  {
   "cell_type": "code",
   "execution_count": null,
   "id": "3d42ea4b-6c0d-4a1d-83e4-909f829ca40b",
   "metadata": {},
   "outputs": [],
   "source": [
    "def create_promt_no_output(x):\n",
    "    rslt = f\"{x}\\n ### Instruction:\\n Predict the selling price of car as a non-negative number.\\n ### Response:\"\n",
    "    return rslt"
   ]
  },
  {
   "cell_type": "code",
   "execution_count": null,
   "id": "2330ecd1-230d-4b04-a06f-62846523eb3e",
   "metadata": {},
   "outputs": [],
   "source": [
    "def get_prediction(prop_inp):\n",
    "    prompt = create_promt_no_output(prop_inp)\n",
    "    print(prompt)\n",
    "    input_ = tokenizer(prompt, return_tensors=\"pt\", max_length=512)\n",
    "\n",
    "    outputs = model.generate(\n",
    "        input_ids=input_.input_ids,\n",
    "        attention_mask=input_.attention_mask,\n",
    "        max_new_tokens=20,\n",
    "    )\n",
    "    resp = tokenizer.decode(outputs[0], skip_special_tokens=True)\n",
    "    return resp"
   ]
  },
  {
   "cell_type": "code",
   "execution_count": null,
   "id": "81388fe3-2d62-472b-b851-183154f2027c",
   "metadata": {},
   "outputs": [],
   "source": [
    "def get_prediction_from_prompt(prompt):\n",
    "    input_ = tokenizer(prompt, return_tensors=\"pt\", max_length=512)\n",
    "\n",
    "    outputs = model.generate(\n",
    "        input_ids=input_.input_ids,\n",
    "        attention_mask=input_.attention_mask,\n",
    "        max_new_tokens=20,\n",
    "    )\n",
    "    resp = tokenizer.decode(outputs[0], skip_special_tokens=True)\n",
    "    return resp"
   ]
  },
  {
   "cell_type": "code",
   "execution_count": null,
   "id": "97fc17aa-88bf-4cb6-a106-3c7b6d70af55",
   "metadata": {},
   "outputs": [],
   "source": []
  },
  {
   "cell_type": "code",
   "execution_count": null,
   "id": "7f6fffc3-1bf3-4942-b9d3-fd79e2c9f927",
   "metadata": {},
   "outputs": [],
   "source": [
    "dataset = load_from_disk(cnfg.data_path)"
   ]
  },
  {
   "cell_type": "code",
   "execution_count": null,
   "id": "b4c6f2de-e36a-4e16-b0af-4817e9866dd7",
   "metadata": {},
   "outputs": [],
   "source": [
    "dataset = dataset[\"test\"]"
   ]
  },
  {
   "cell_type": "code",
   "execution_count": null,
   "id": "3ee49244-3bf2-4e1e-bc82-e41535fda891",
   "metadata": {},
   "outputs": [],
   "source": [
    "tmp_dl = iter(dataset)"
   ]
  },
  {
   "cell_type": "code",
   "execution_count": null,
   "id": "4de30e87-2b13-4def-a197-53934f0c75e0",
   "metadata": {},
   "outputs": [
    {
     "data": {
      "text/plain": [
       "{'input': 'Properties of car: year is 2014, make is Kia, model is Sorento, trim is LX, body is SUV, transmission is automatic, state is co, condition is 41.0, odometer is 38588.0, color is brown, interior is black, mmr is 17200.0, sales_year is 2015.',\n",
       " 'output': 17400.0}"
      ]
     },
     "execution_count": null,
     "metadata": {},
     "output_type": "execute_result"
    }
   ],
   "source": [
    "tmp_data_point = next(tmp_dl)\n",
    "tmp_data_point"
   ]
  },
  {
   "cell_type": "code",
   "execution_count": null,
   "id": "86a0d18d-1828-4d68-a9a3-7524be7eb8bf",
   "metadata": {},
   "outputs": [
    {
     "name": "stderr",
     "output_type": "stream",
     "text": [
      "Setting `pad_token_id` to `eos_token_id`:0 for open-end generation.\n"
     ]
    },
    {
     "name": "stdout",
     "output_type": "stream",
     "text": [
      "Properties of car: year is 2014, make is Kia, model is Sorento, trim is LX, body is SUV, transmission is automatic, state is co, condition is 41.0, odometer is 38588.0, color is brown, interior is black, mmr is 17200.0, sales_year is 2015.\n",
      " ### Instruction:\n",
      " Predict the selling price of car as a non-negative number.\n",
      " ### Response:\n"
     ]
    },
    {
     "data": {
      "text/plain": [
       "'Properties of car: year is 2014, make is Kia, model is Sorento, trim is LX, body is SUV, transmission is automatic, state is co, condition is 41.0, odometer is 38588.0, color is brown, interior is black, mmr is 17200.0, sales_year is 2015.\\n ### Instruction:\\n Predict the selling price of car as a non-negative number.\\n ### Response:\\n17200.0'"
      ]
     },
     "execution_count": null,
     "metadata": {},
     "output_type": "execute_result"
    }
   ],
   "source": [
    "get_prediction(tmp_data_point[\"input\"])"
   ]
  },
  {
   "cell_type": "code",
   "execution_count": null,
   "id": "272044b7-73c4-479f-ab55-f61f04d019db",
   "metadata": {},
   "outputs": [
    {
     "data": {
      "text/plain": [
       "{'input': 'Properties of car: year is 2014, make is Toyota, model is Corolla, trim is LE, body is Sedan, transmission is automatic, state is ga, condition is 34.0, odometer is 46797.0, color is gray, interior is gray, mmr is 12700.0, sales_year is 2015.',\n",
       " 'output': 12400.0}"
      ]
     },
     "execution_count": null,
     "metadata": {},
     "output_type": "execute_result"
    }
   ],
   "source": [
    "tmp_data_point = next(tmp_dl)\n",
    "tmp_data_point"
   ]
  },
  {
   "cell_type": "code",
   "execution_count": null,
   "id": "708aee58-4d0f-4ce1-afa2-9360bdc2c1d1",
   "metadata": {},
   "outputs": [
    {
     "name": "stderr",
     "output_type": "stream",
     "text": [
      "Setting `pad_token_id` to `eos_token_id`:0 for open-end generation.\n"
     ]
    },
    {
     "name": "stdout",
     "output_type": "stream",
     "text": [
      "Properties of car: year is 2014, make is Toyota, model is Corolla, trim is LE, body is Sedan, transmission is automatic, state is ga, condition is 34.0, odometer is 46797.0, color is gray, interior is gray, mmr is 12700.0, sales_year is 2015.\n",
      " ### Instruction:\n",
      " Predict the selling price of car as a non-negative number.\n",
      " ### Response:\n"
     ]
    },
    {
     "data": {
      "text/plain": [
       "'Properties of car: year is 2014, make is Toyota, model is Corolla, trim is LE, body is Sedan, transmission is automatic, state is ga, condition is 34.0, odometer is 46797.0, color is gray, interior is gray, mmr is 12700.0, sales_year is 2015.\\n ### Instruction:\\n Predict the selling price of car as a non-negative number.\\n ### Response:\\n13000.0'"
      ]
     },
     "execution_count": null,
     "metadata": {},
     "output_type": "execute_result"
    }
   ],
   "source": [
    "get_prediction(tmp_data_point[\"input\"])"
   ]
  },
  {
   "cell_type": "code",
   "execution_count": null,
   "id": "0bd0874d-00ef-4a0f-ad86-f1680f6dad55",
   "metadata": {},
   "outputs": [
    {
     "name": "stderr",
     "output_type": "stream",
     "text": [
      "Setting `pad_token_id` to `eos_token_id`:0 for open-end generation.\n"
     ]
    },
    {
     "data": {
      "text/plain": [
       "'Properties of car: body is Sedan, transmission is automatic, state is ga, condition is 34.0, odometer is 46797.0, color is gray, interior is brown.\\n ### Instruction:\\n Predict the selling price of car as a non-negative number.\\n ### Response:\\n5200.0'"
      ]
     },
     "execution_count": null,
     "metadata": {},
     "output_type": "execute_result"
    }
   ],
   "source": [
    "get_prediction_from_prompt('Properties of car: body is Sedan, transmission is automatic, state is ga, condition is 34.0, odometer is 46797.0, color is gray, interior is brown.\\n ### Instruction:\\n Predict the selling price of car as a non-negative number.\\n ### Response:')"
   ]
  },
  {
   "cell_type": "code",
   "execution_count": null,
   "id": "caab97ca-055a-446d-ac0a-5b2373eaea1c",
   "metadata": {},
   "outputs": [
    {
     "data": {
      "text/plain": [
       "{'input': 'Properties of car: year is 2011, make is Ford, model is F-150, trim is XLT, body is SuperCrew, transmission is not given, state is mi, condition is 47.0, odometer is 51615.0, color is red, interior is gray, mmr is 22800.0, sales_year is 2015.',\n",
       " 'output': 20200.0}"
      ]
     },
     "execution_count": null,
     "metadata": {},
     "output_type": "execute_result"
    }
   ],
   "source": [
    "tmp_data_point = next(tmp_dl)\n",
    "tmp_data_point"
   ]
  },
  {
   "cell_type": "code",
   "execution_count": null,
   "id": "fdb70349-0d2c-4dcf-82ef-98c07872378b",
   "metadata": {},
   "outputs": [
    {
     "name": "stderr",
     "output_type": "stream",
     "text": [
      "Setting `pad_token_id` to `eos_token_id`:0 for open-end generation.\n"
     ]
    },
    {
     "name": "stdout",
     "output_type": "stream",
     "text": [
      "Properties of car: year is 2011, make is Ford, model is F-150, trim is XLT, body is SuperCrew, transmission is not given, state is mi, condition is 47.0, odometer is 51615.0, color is red, interior is gray, mmr is 22800.0, sales_year is 2015.\n",
      " ### Instruction:\n",
      " Predict the selling price of car as a non-negative number.\n",
      " ### Response:\n"
     ]
    },
    {
     "data": {
      "text/plain": [
       "'Properties of car: year is 2011, make is Ford, model is F-150, trim is XLT, body is SuperCrew, transmission is not given, state is mi, condition is 47.0, odometer is 51615.0, color is red, interior is gray, mmr is 22800.0, sales_year is 2015.\\n ### Instruction:\\n Predict the selling price of car as a non-negative number.\\n ### Response:\\n23000.0'"
      ]
     },
     "execution_count": null,
     "metadata": {},
     "output_type": "execute_result"
    }
   ],
   "source": [
    "get_prediction(tmp_data_point[\"input\"])"
   ]
  },
  {
   "cell_type": "markdown",
   "id": "874aef7b-e50c-4765-b081-b9b866a8aca6",
   "metadata": {},
   "source": [
    "#### Impact of make year:"
   ]
  },
  {
   "cell_type": "code",
   "execution_count": null,
   "id": "58cc97d9-aa74-4939-aa60-dd2ad48d05b9",
   "metadata": {},
   "outputs": [
    {
     "name": "stderr",
     "output_type": "stream",
     "text": [
      "Setting `pad_token_id` to `eos_token_id`:0 for open-end generation.\n"
     ]
    },
    {
     "data": {
      "text/plain": [
       "'Properties of car: year is 2011, make is Ford, model is F-150, trim is XLT, body is SuperCrew, transmission is not given, state is mi, condition is 47.0, odometer is 51615.0, color is red, interior is gray, sales_year is 2015.\\n ### Instruction:\\n Predict the selling price of car as a non-negative number.\\n ### Response:\\n12500.0'"
      ]
     },
     "execution_count": null,
     "metadata": {},
     "output_type": "execute_result"
    }
   ],
   "source": [
    "get_prediction_from_prompt('Properties of car: year is 2011, make is Ford, model is F-150, trim is XLT, body is SuperCrew, transmission is not given, state is mi, condition is 47.0, odometer is 51615.0, color is red, interior is gray, sales_year is 2015.\\n ### Instruction:\\n Predict the selling price of car as a non-negative number.\\n ### Response:')"
   ]
  },
  {
   "cell_type": "code",
   "execution_count": null,
   "id": "b903d1b5-d2fe-4a25-8827-6b3d3ec9349a",
   "metadata": {},
   "outputs": [
    {
     "name": "stderr",
     "output_type": "stream",
     "text": [
      "Setting `pad_token_id` to `eos_token_id`:0 for open-end generation.\n"
     ]
    },
    {
     "data": {
      "text/plain": [
       "'Properties of car: year is 2009, make is Ford, model is F-150, trim is XLT, body is SuperCrew, transmission is not given, state is mi, condition is 47.0, odometer is 51615.0, color is red, interior is gray, sales_year is 2015.\\n ### Instruction:\\n Predict the selling price of car as a non-negative number.\\n ### Response:\\n12000.0'"
      ]
     },
     "execution_count": null,
     "metadata": {},
     "output_type": "execute_result"
    }
   ],
   "source": [
    "get_prediction_from_prompt('Properties of car: year is 2009, make is Ford, model is F-150, trim is XLT, body is SuperCrew, transmission is not given, state is mi, condition is 47.0, odometer is 51615.0, color is red, interior is gray, sales_year is 2015.\\n ### Instruction:\\n Predict the selling price of car as a non-negative number.\\n ### Response:')"
   ]
  },
  {
   "cell_type": "code",
   "execution_count": null,
   "id": "66918206-1b06-4f22-9a03-3a4a4f981d79",
   "metadata": {},
   "outputs": [
    {
     "name": "stderr",
     "output_type": "stream",
     "text": [
      "Setting `pad_token_id` to `eos_token_id`:0 for open-end generation.\n"
     ]
    },
    {
     "data": {
      "text/plain": [
       "'Properties of car: year is 2007, make is Ford, model is F-150, trim is XLT, body is SuperCrew, transmission is not given, state is mi, condition is 47.0, odometer is 51615.0, color is red, interior is gray, sales_year is 2015.\\n ### Instruction:\\n Predict the selling price of car as a non-negative number.\\n ### Response:\\n5200.0'"
      ]
     },
     "execution_count": null,
     "metadata": {},
     "output_type": "execute_result"
    }
   ],
   "source": [
    "get_prediction_from_prompt('Properties of car: year is 2007, make is Ford, model is F-150, trim is XLT, body is SuperCrew, transmission is not given, state is mi, condition is 47.0, odometer is 51615.0, color is red, interior is gray, sales_year is 2015.\\n ### Instruction:\\n Predict the selling price of car as a non-negative number.\\n ### Response:')"
   ]
  },
  {
   "cell_type": "code",
   "execution_count": null,
   "id": "4d0dfcb9-1b62-411c-aa7c-950c85608067",
   "metadata": {},
   "outputs": [],
   "source": [
    "### Note: Reducing make year reduces price"
   ]
  },
  {
   "cell_type": "code",
   "execution_count": null,
   "id": "944aef45-fd52-47e8-8f87-13620e1b784e",
   "metadata": {},
   "outputs": [],
   "source": []
  },
  {
   "cell_type": "markdown",
   "id": "6fd289c1-d1f7-467f-9043-c15ef10cb032",
   "metadata": {},
   "source": [
    "### Impact of condition"
   ]
  },
  {
   "cell_type": "code",
   "execution_count": null,
   "id": "254e4469-ca6a-41f2-9902-31c77f9e9674",
   "metadata": {},
   "outputs": [
    {
     "name": "stderr",
     "output_type": "stream",
     "text": [
      "Setting `pad_token_id` to `eos_token_id`:0 for open-end generation.\n"
     ]
    },
    {
     "data": {
      "text/plain": [
       "'Properties of car: make is Ford, model is F-150, trim is XLT, body is SuperCrew, transmission is not given, state is ca, condition is 134.0, color is red, interior is gray, sales_year is 2015.\\n ### Instruction:\\n Predict the selling price of car as a non-negative number.\\n ### Response:\\n13200.0'"
      ]
     },
     "execution_count": null,
     "metadata": {},
     "output_type": "execute_result"
    }
   ],
   "source": [
    "get_prediction_from_prompt('Properties of car: make is Ford, model is F-150, trim is XLT, body is SuperCrew, transmission is not given, state is ca, condition is 134.0, color is red, interior is gray, sales_year is 2015.\\n ### Instruction:\\n Predict the selling price of car as a non-negative number.\\n ### Response:')"
   ]
  },
  {
   "cell_type": "code",
   "execution_count": null,
   "id": "51f0adf6-9c67-4e22-9760-80a5781f221d",
   "metadata": {},
   "outputs": [
    {
     "name": "stderr",
     "output_type": "stream",
     "text": [
      "Setting `pad_token_id` to `eos_token_id`:0 for open-end generation.\n"
     ]
    },
    {
     "data": {
      "text/plain": [
       "'Properties of car: make is Ford, model is F-150, trim is XLT, body is SuperCrew, transmission is not given, state is ca, condition is 20.0, color is red, interior is gray, sales_year is 2015.\\n ### Instruction:\\n Predict the selling price of car as a non-negative number.\\n ### Response:\\n18000.0'"
      ]
     },
     "execution_count": null,
     "metadata": {},
     "output_type": "execute_result"
    }
   ],
   "source": [
    "get_prediction_from_prompt('Properties of car: make is Ford, model is F-150, trim is XLT, body is SuperCrew, transmission is not given, state is ca, condition is 20.0, color is red, interior is gray, sales_year is 2015.\\n ### Instruction:\\n Predict the selling price of car as a non-negative number.\\n ### Response:')"
   ]
  },
  {
   "cell_type": "code",
   "execution_count": null,
   "id": "e3ce7c8f-accb-4d1f-a218-c9a2473db4b2",
   "metadata": {},
   "outputs": [],
   "source": [
    "### Note: good condition higher price"
   ]
  },
  {
   "cell_type": "code",
   "execution_count": null,
   "id": "b97842e8-9000-4e1f-b527-3a9366574355",
   "metadata": {},
   "outputs": [],
   "source": [
    "## Changing color"
   ]
  },
  {
   "cell_type": "code",
   "execution_count": null,
   "id": "f8d0642b-d2b1-40af-a39d-d4a442df8ac3",
   "metadata": {},
   "outputs": [
    {
     "name": "stderr",
     "output_type": "stream",
     "text": [
      "Setting `pad_token_id` to `eos_token_id`:0 for open-end generation.\n"
     ]
    },
    {
     "data": {
      "text/plain": [
       "'Properties of car: make is Ford, model is F-150, trim is XLT, body is SuperCrew, transmission is not given, state is ca, condition is 75.0, color is black, interior is brown, sales_year is 2015.\\n ### Instruction:\\n Predict the selling price of car as a non-negative number.\\n ### Response:\\n18500.0'"
      ]
     },
     "execution_count": null,
     "metadata": {},
     "output_type": "execute_result"
    }
   ],
   "source": [
    "get_prediction_from_prompt('Properties of car: make is Ford, model is F-150, trim is XLT, body is SuperCrew, transmission is not given, state is ca, condition is 75.0, color is black, interior is brown, sales_year is 2015.\\n ### Instruction:\\n Predict the selling price of car as a non-negative number.\\n ### Response:')"
   ]
  },
  {
   "cell_type": "code",
   "execution_count": null,
   "id": "25506cff-2bf9-4ff8-a24c-e054835d23dd",
   "metadata": {},
   "outputs": [
    {
     "name": "stderr",
     "output_type": "stream",
     "text": [
      "Setting `pad_token_id` to `eos_token_id`:0 for open-end generation.\n"
     ]
    },
    {
     "data": {
      "text/plain": [
       "'Properties of car: make is Ford, model is F-150, trim is XLT, body is SuperCrew, transmission is not given, state is ca, condition is 134.0, color is black, interior is brown, sales_year is 2015.\\n ### Instruction:\\n Predict the selling price of car as a non-negative number.\\n ### Response:\\n16500.0'"
      ]
     },
     "execution_count": null,
     "metadata": {},
     "output_type": "execute_result"
    }
   ],
   "source": [
    "get_prediction_from_prompt('Properties of car: make is Ford, model is F-150, trim is XLT, body is SuperCrew, transmission is not given, state is ca, condition is 134.0, color is black, interior is brown, sales_year is 2015.\\n ### Instruction:\\n Predict the selling price of car as a non-negative number.\\n ### Response:')"
   ]
  },
  {
   "cell_type": "code",
   "execution_count": null,
   "id": "f92a5612-76bd-492b-ba31-b2dd8ddee0b1",
   "metadata": {},
   "outputs": [],
   "source": [
    "### Note: good condition higher price"
   ]
  },
  {
   "cell_type": "markdown",
   "id": "27cf75b4-7750-40af-8867-1fd44f8e31a6",
   "metadata": {},
   "source": [
    "### Impact of color"
   ]
  },
  {
   "cell_type": "code",
   "execution_count": null,
   "id": "c20c6493-635b-4832-a108-aafc072bb859",
   "metadata": {},
   "outputs": [
    {
     "name": "stderr",
     "output_type": "stream",
     "text": [
      "Setting `pad_token_id` to `eos_token_id`:0 for open-end generation.\n"
     ]
    },
    {
     "data": {
      "text/plain": [
       "'Properties of car: make is Ford, model is F-150, trim is XLT, body is SuperCrew, transmission is not given, state is ca, color is black, interior is brown, sales_year is 2015.\\n ### Instruction:\\n Predict the selling price of car as a non-negative number.\\n ### Response:\\n18500.0'"
      ]
     },
     "execution_count": null,
     "metadata": {},
     "output_type": "execute_result"
    }
   ],
   "source": [
    "get_prediction_from_prompt('Properties of car: make is Ford, model is F-150, trim is XLT, body is SuperCrew, transmission is not given, state is ca, color is black, interior is brown, sales_year is 2015.\\n ### Instruction:\\n Predict the selling price of car as a non-negative number.\\n ### Response:')"
   ]
  },
  {
   "cell_type": "code",
   "execution_count": null,
   "id": "51f0b757-f434-4969-b46e-a3d5830b51c7",
   "metadata": {},
   "outputs": [
    {
     "name": "stderr",
     "output_type": "stream",
     "text": [
      "Setting `pad_token_id` to `eos_token_id`:0 for open-end generation.\n"
     ]
    },
    {
     "data": {
      "text/plain": [
       "'Properties of car: make is Ford, model is F-150, trim is XLT, body is SuperCrew, transmission is not given, state is ca, color is pink, interior is brown, sales_year is 2015.\\n ### Instruction:\\n Predict the selling price of car as a non-negative number.\\n ### Response:\\n12500.0'"
      ]
     },
     "execution_count": null,
     "metadata": {},
     "output_type": "execute_result"
    }
   ],
   "source": [
    "get_prediction_from_prompt('Properties of car: make is Ford, model is F-150, trim is XLT, body is SuperCrew, transmission is not given, state is ca, color is pink, interior is brown, sales_year is 2015.\\n ### Instruction:\\n Predict the selling price of car as a non-negative number.\\n ### Response:')"
   ]
  },
  {
   "cell_type": "code",
   "execution_count": null,
   "id": "443930a8-a4d1-4fbb-997c-d7f3558e725a",
   "metadata": {},
   "outputs": [
    {
     "name": "stderr",
     "output_type": "stream",
     "text": [
      "Setting `pad_token_id` to `eos_token_id`:0 for open-end generation.\n"
     ]
    },
    {
     "data": {
      "text/plain": [
       "'Properties of car: make is Ford, model is F-150, trim is Base, body is SuperCrew, transmission is not given, state is ca, color is orange, interior is yellow, sales_year is 2015.\\n ### Instruction:\\n Predict the selling price of car as a non-negative number.\\n ### Response:\\n16500.0'"
      ]
     },
     "execution_count": null,
     "metadata": {},
     "output_type": "execute_result"
    }
   ],
   "source": [
    "get_prediction_from_prompt('Properties of car: make is Ford, model is F-150, trim is Base, body is SuperCrew, transmission is not given, state is ca, color is orange, interior is yellow, sales_year is 2015.\\n ### Instruction:\\n Predict the selling price of car as a non-negative number.\\n ### Response:')"
   ]
  },
  {
   "cell_type": "code",
   "execution_count": null,
   "id": "f11fb67d-bd6c-49ef-a5fe-60eb1bdbb62a",
   "metadata": {},
   "outputs": [],
   "source": []
  }
 ],
 "metadata": {
  "kernelspec": {
   "display_name": "python3",
   "language": "python",
   "name": "python3"
  }
 },
 "nbformat": 4,
 "nbformat_minor": 5
}
